{
  "cells": [
    {
      "cell_type": "markdown",
      "metadata": {
        "id": "r0we7eCYXCMB"
      },
      "source": [
        "## General imports and references\n",
        "References:\n",
        "- https://scikit-learn.org/dev/modules/generated/sklearn.ensemble.RandomForestRegressor.html\n",
        "- https://medium.com/@merilainen.vili/how-to-encode-categorical-values-for-multiple-columns-scikit-learn-66fd3671384b\n",
        "- https://www.geeksforgeeks.org/random-forest-regression-in-python/\n",
        "- https://xgboost.readthedocs.io/en/latest/index.html"
      ]
    },
    {
      "cell_type": "code",
      "execution_count": null,
      "metadata": {
        "id": "5uKJ0IeS4VTU",
        "colab": {
          "base_uri": "https://localhost:8080/",
          "height": 17
        },
        "outputId": "5ac05446-608b-4e1f-e4f1-ba85a47a4dd1"
      },
      "outputs": [
        {
          "output_type": "display_data",
          "data": {
            "text/plain": [
              "<IPython.core.display.Javascript object>"
            ],
            "application/javascript": [
              "google.colab.output.setIframeHeight(0, true, {maxHeight: 5000})"
            ]
          },
          "metadata": {}
        },
        {
          "output_type": "display_data",
          "data": {
            "text/plain": [
              "<IPython.core.display.Javascript object>"
            ],
            "application/javascript": [
              "google.colab.output.setIframeHeight(0, true, {maxHeight: 5000})"
            ]
          },
          "metadata": {}
        },
        {
          "output_type": "display_data",
          "data": {
            "text/plain": [
              "<IPython.core.display.Javascript object>"
            ],
            "application/javascript": [
              "google.colab.output.setIframeHeight(0, true, {maxHeight: 5000})"
            ]
          },
          "metadata": {}
        }
      ],
      "source": [
        "# Install libraries\n",
        "import numpy as np\n",
        "import pandas as pd\n",
        "import math\n",
        "import matplotlib.pyplot as plt\n",
        "import scipy"
      ]
    },
    {
      "cell_type": "code",
      "execution_count": null,
      "metadata": {
        "colab": {
          "base_uri": "https://localhost:8080/",
          "height": 34
        },
        "id": "BUIhH47YW4Tm",
        "outputId": "bf4e35de-bce5-4a2a-b83a-6e33eac17fb4"
      },
      "outputs": [
        {
          "output_type": "display_data",
          "data": {
            "text/plain": [
              "<IPython.core.display.Javascript object>"
            ],
            "application/javascript": [
              "google.colab.output.setIframeHeight(0, true, {maxHeight: 5000})"
            ]
          },
          "metadata": {}
        },
        {
          "output_type": "display_data",
          "data": {
            "text/plain": [
              "<IPython.core.display.Javascript object>"
            ],
            "application/javascript": [
              "google.colab.output.setIframeHeight(0, true, {maxHeight: 5000})"
            ]
          },
          "metadata": {}
        },
        {
          "output_type": "display_data",
          "data": {
            "text/plain": [
              "<IPython.core.display.Javascript object>"
            ],
            "application/javascript": [
              "google.colab.output.setIframeHeight(0, true, {maxHeight: 5000})"
            ]
          },
          "metadata": {}
        },
        {
          "output_type": "stream",
          "name": "stdout",
          "text": [
            "Drive already mounted at /content/drive; to attempt to forcibly remount, call drive.mount(\"/content/drive\", force_remount=True).\n"
          ]
        }
      ],
      "source": [
        "import seaborn as sns\n",
        "import matplotlib.pyplot as plt\n",
        "from scipy import stats\n",
        "\n",
        "# Sklearn imports\n",
        "from sklearn import tree\n",
        "from sklearn.model_selection import train_test_split\n",
        "from sklearn.ensemble import RandomForestRegressor\n",
        "from sklearn.metrics import accuracy_score\n",
        "from sklearn.model_selection import KFold, cross_val_score\n",
        "from sklearn.model_selection import GridSearchCV\n",
        "from sklearn.preprocessing import OrdinalEncoder\n",
        "from sklearn.metrics import mean_squared_error, r2_score, mean_absolute_error, mean_absolute_percentage_error, root_mean_squared_error\n",
        "import xgboost as xgb\n",
        "import matplotlib.pyplot as plt\n",
        "\n",
        "# Google drive mount\n",
        "from google.colab import drive\n",
        "import os\n",
        "drive.mount('/content/drive')\n",
        "os.chdir('/content/drive/My Drive/COMP685')\n",
        "\n",
        "# Avoids scroll-in-the-scroll in the entire Notebook\n",
        "from IPython.display import Javascript\n",
        "def resize_colab_cell():\n",
        "  display(Javascript('google.colab.output.setIframeHeight(0, true, {maxHeight: 5000})'))\n",
        "get_ipython().events.register('pre_run_cell', resize_colab_cell)"
      ]
    },
    {
      "cell_type": "code",
      "execution_count": null,
      "metadata": {
        "colab": {
          "base_uri": "https://localhost:8080/",
          "height": 206
        },
        "id": "Ew_pYqlR02Dw",
        "outputId": "c1da5bcc-db3e-421e-d76a-075e1961fff1"
      },
      "outputs": [
        {
          "output_type": "display_data",
          "data": {
            "text/plain": [
              "<IPython.core.display.Javascript object>"
            ],
            "application/javascript": [
              "google.colab.output.setIframeHeight(0, true, {maxHeight: 5000})"
            ]
          },
          "metadata": {}
        },
        {
          "output_type": "display_data",
          "data": {
            "text/plain": [
              "<IPython.core.display.Javascript object>"
            ],
            "application/javascript": [
              "google.colab.output.setIframeHeight(0, true, {maxHeight: 5000})"
            ]
          },
          "metadata": {}
        },
        {
          "output_type": "display_data",
          "data": {
            "text/plain": [
              "<IPython.core.display.Javascript object>"
            ],
            "application/javascript": [
              "google.colab.output.setIframeHeight(0, true, {maxHeight: 5000})"
            ]
          },
          "metadata": {}
        },
        {
          "output_type": "display_data",
          "data": {
            "text/plain": [
              "<IPython.core.display.Javascript object>"
            ],
            "application/javascript": [
              "google.colab.output.setIframeHeight(0, true, {maxHeight: 5000})"
            ]
          },
          "metadata": {}
        },
        {
          "output_type": "execute_result",
          "data": {
            "text/plain": [
              "  Waybill Date        Origin Origin-St          Destination Destination-St  \\\n",
              "0   2024-09-06  ROBERTS BANK        BC  EDMONTON INTER TERM             AB   \n",
              "1   2024-08-06  ROBERTS BANK        BC  BRAMPTON INTER TERM             ON   \n",
              "2   2024-08-06  ROBERTS BANK        BC  BRAMPTON INTER TERM             ON   \n",
              "3   2024-08-06  ROBERTS BANK        BC  BRAMPTON INTER TERM             ON   \n",
              "4   2024-08-06  ROBERTS BANK        BC  BRAMPTON INTER TERM             ON   \n",
              "\n",
              "  Commodity  Railcars-Containers  Rail-Miles  Net-Weight-Tons  Metric-Tonnes  \\\n",
              "0   Rhubarb                    1       766.3               24          21.77   \n",
              "1    Barley                    1      2757.8               23          20.87   \n",
              "2    Llamas                    1      2757.8                9           8.16   \n",
              "3   Spinach                    1      2757.8               23          20.87   \n",
              "4   Parsnip                    1      2757.8               23          20.87   \n",
              "\n",
              "   Rail-km  Rail-GHG-Emissions-Tonnes  Truck-GHG-Emissions-Tonnes  \n",
              "0  1233.21                       0.34                        2.07  \n",
              "1  4438.13                       1.18                        7.15  \n",
              "2  4438.13                       0.46                        2.80  \n",
              "3  4438.13                       1.18                        7.15  \n",
              "4  4438.13                       1.18                        7.15  "
            ],
            "text/html": [
              "\n",
              "  <div id=\"df-638368b0-dbb2-48ac-ab3f-6640fd742934\" class=\"colab-df-container\">\n",
              "    <div>\n",
              "<style scoped>\n",
              "    .dataframe tbody tr th:only-of-type {\n",
              "        vertical-align: middle;\n",
              "    }\n",
              "\n",
              "    .dataframe tbody tr th {\n",
              "        vertical-align: top;\n",
              "    }\n",
              "\n",
              "    .dataframe thead th {\n",
              "        text-align: right;\n",
              "    }\n",
              "</style>\n",
              "<table border=\"1\" class=\"dataframe\">\n",
              "  <thead>\n",
              "    <tr style=\"text-align: right;\">\n",
              "      <th></th>\n",
              "      <th>Waybill Date</th>\n",
              "      <th>Origin</th>\n",
              "      <th>Origin-St</th>\n",
              "      <th>Destination</th>\n",
              "      <th>Destination-St</th>\n",
              "      <th>Commodity</th>\n",
              "      <th>Railcars-Containers</th>\n",
              "      <th>Rail-Miles</th>\n",
              "      <th>Net-Weight-Tons</th>\n",
              "      <th>Metric-Tonnes</th>\n",
              "      <th>Rail-km</th>\n",
              "      <th>Rail-GHG-Emissions-Tonnes</th>\n",
              "      <th>Truck-GHG-Emissions-Tonnes</th>\n",
              "    </tr>\n",
              "  </thead>\n",
              "  <tbody>\n",
              "    <tr>\n",
              "      <th>0</th>\n",
              "      <td>2024-09-06</td>\n",
              "      <td>ROBERTS BANK</td>\n",
              "      <td>BC</td>\n",
              "      <td>EDMONTON INTER TERM</td>\n",
              "      <td>AB</td>\n",
              "      <td>Rhubarb</td>\n",
              "      <td>1</td>\n",
              "      <td>766.3</td>\n",
              "      <td>24</td>\n",
              "      <td>21.77</td>\n",
              "      <td>1233.21</td>\n",
              "      <td>0.34</td>\n",
              "      <td>2.07</td>\n",
              "    </tr>\n",
              "    <tr>\n",
              "      <th>1</th>\n",
              "      <td>2024-08-06</td>\n",
              "      <td>ROBERTS BANK</td>\n",
              "      <td>BC</td>\n",
              "      <td>BRAMPTON INTER TERM</td>\n",
              "      <td>ON</td>\n",
              "      <td>Barley</td>\n",
              "      <td>1</td>\n",
              "      <td>2757.8</td>\n",
              "      <td>23</td>\n",
              "      <td>20.87</td>\n",
              "      <td>4438.13</td>\n",
              "      <td>1.18</td>\n",
              "      <td>7.15</td>\n",
              "    </tr>\n",
              "    <tr>\n",
              "      <th>2</th>\n",
              "      <td>2024-08-06</td>\n",
              "      <td>ROBERTS BANK</td>\n",
              "      <td>BC</td>\n",
              "      <td>BRAMPTON INTER TERM</td>\n",
              "      <td>ON</td>\n",
              "      <td>Llamas</td>\n",
              "      <td>1</td>\n",
              "      <td>2757.8</td>\n",
              "      <td>9</td>\n",
              "      <td>8.16</td>\n",
              "      <td>4438.13</td>\n",
              "      <td>0.46</td>\n",
              "      <td>2.80</td>\n",
              "    </tr>\n",
              "    <tr>\n",
              "      <th>3</th>\n",
              "      <td>2024-08-06</td>\n",
              "      <td>ROBERTS BANK</td>\n",
              "      <td>BC</td>\n",
              "      <td>BRAMPTON INTER TERM</td>\n",
              "      <td>ON</td>\n",
              "      <td>Spinach</td>\n",
              "      <td>1</td>\n",
              "      <td>2757.8</td>\n",
              "      <td>23</td>\n",
              "      <td>20.87</td>\n",
              "      <td>4438.13</td>\n",
              "      <td>1.18</td>\n",
              "      <td>7.15</td>\n",
              "    </tr>\n",
              "    <tr>\n",
              "      <th>4</th>\n",
              "      <td>2024-08-06</td>\n",
              "      <td>ROBERTS BANK</td>\n",
              "      <td>BC</td>\n",
              "      <td>BRAMPTON INTER TERM</td>\n",
              "      <td>ON</td>\n",
              "      <td>Parsnip</td>\n",
              "      <td>1</td>\n",
              "      <td>2757.8</td>\n",
              "      <td>23</td>\n",
              "      <td>20.87</td>\n",
              "      <td>4438.13</td>\n",
              "      <td>1.18</td>\n",
              "      <td>7.15</td>\n",
              "    </tr>\n",
              "  </tbody>\n",
              "</table>\n",
              "</div>\n",
              "    <div class=\"colab-df-buttons\">\n",
              "\n",
              "  <div class=\"colab-df-container\">\n",
              "    <button class=\"colab-df-convert\" onclick=\"convertToInteractive('df-638368b0-dbb2-48ac-ab3f-6640fd742934')\"\n",
              "            title=\"Convert this dataframe to an interactive table.\"\n",
              "            style=\"display:none;\">\n",
              "\n",
              "  <svg xmlns=\"http://www.w3.org/2000/svg\" height=\"24px\" viewBox=\"0 -960 960 960\">\n",
              "    <path d=\"M120-120v-720h720v720H120Zm60-500h600v-160H180v160Zm220 220h160v-160H400v160Zm0 220h160v-160H400v160ZM180-400h160v-160H180v160Zm440 0h160v-160H620v160ZM180-180h160v-160H180v160Zm440 0h160v-160H620v160Z\"/>\n",
              "  </svg>\n",
              "    </button>\n",
              "\n",
              "  <style>\n",
              "    .colab-df-container {\n",
              "      display:flex;\n",
              "      gap: 12px;\n",
              "    }\n",
              "\n",
              "    .colab-df-convert {\n",
              "      background-color: #E8F0FE;\n",
              "      border: none;\n",
              "      border-radius: 50%;\n",
              "      cursor: pointer;\n",
              "      display: none;\n",
              "      fill: #1967D2;\n",
              "      height: 32px;\n",
              "      padding: 0 0 0 0;\n",
              "      width: 32px;\n",
              "    }\n",
              "\n",
              "    .colab-df-convert:hover {\n",
              "      background-color: #E2EBFA;\n",
              "      box-shadow: 0px 1px 2px rgba(60, 64, 67, 0.3), 0px 1px 3px 1px rgba(60, 64, 67, 0.15);\n",
              "      fill: #174EA6;\n",
              "    }\n",
              "\n",
              "    .colab-df-buttons div {\n",
              "      margin-bottom: 4px;\n",
              "    }\n",
              "\n",
              "    [theme=dark] .colab-df-convert {\n",
              "      background-color: #3B4455;\n",
              "      fill: #D2E3FC;\n",
              "    }\n",
              "\n",
              "    [theme=dark] .colab-df-convert:hover {\n",
              "      background-color: #434B5C;\n",
              "      box-shadow: 0px 1px 3px 1px rgba(0, 0, 0, 0.15);\n",
              "      filter: drop-shadow(0px 1px 2px rgba(0, 0, 0, 0.3));\n",
              "      fill: #FFFFFF;\n",
              "    }\n",
              "  </style>\n",
              "\n",
              "    <script>\n",
              "      const buttonEl =\n",
              "        document.querySelector('#df-638368b0-dbb2-48ac-ab3f-6640fd742934 button.colab-df-convert');\n",
              "      buttonEl.style.display =\n",
              "        google.colab.kernel.accessAllowed ? 'block' : 'none';\n",
              "\n",
              "      async function convertToInteractive(key) {\n",
              "        const element = document.querySelector('#df-638368b0-dbb2-48ac-ab3f-6640fd742934');\n",
              "        const dataTable =\n",
              "          await google.colab.kernel.invokeFunction('convertToInteractive',\n",
              "                                                    [key], {});\n",
              "        if (!dataTable) return;\n",
              "\n",
              "        const docLinkHtml = 'Like what you see? Visit the ' +\n",
              "          '<a target=\"_blank\" href=https://colab.research.google.com/notebooks/data_table.ipynb>data table notebook</a>'\n",
              "          + ' to learn more about interactive tables.';\n",
              "        element.innerHTML = '';\n",
              "        dataTable['output_type'] = 'display_data';\n",
              "        await google.colab.output.renderOutput(dataTable, element);\n",
              "        const docLink = document.createElement('div');\n",
              "        docLink.innerHTML = docLinkHtml;\n",
              "        element.appendChild(docLink);\n",
              "      }\n",
              "    </script>\n",
              "  </div>\n",
              "\n",
              "\n",
              "<div id=\"df-7af71542-9a20-484e-ac88-c976e6fc5dd4\">\n",
              "  <button class=\"colab-df-quickchart\" onclick=\"quickchart('df-7af71542-9a20-484e-ac88-c976e6fc5dd4')\"\n",
              "            title=\"Suggest charts\"\n",
              "            style=\"display:none;\">\n",
              "\n",
              "<svg xmlns=\"http://www.w3.org/2000/svg\" height=\"24px\"viewBox=\"0 0 24 24\"\n",
              "     width=\"24px\">\n",
              "    <g>\n",
              "        <path d=\"M19 3H5c-1.1 0-2 .9-2 2v14c0 1.1.9 2 2 2h14c1.1 0 2-.9 2-2V5c0-1.1-.9-2-2-2zM9 17H7v-7h2v7zm4 0h-2V7h2v10zm4 0h-2v-4h2v4z\"/>\n",
              "    </g>\n",
              "</svg>\n",
              "  </button>\n",
              "\n",
              "<style>\n",
              "  .colab-df-quickchart {\n",
              "      --bg-color: #E8F0FE;\n",
              "      --fill-color: #1967D2;\n",
              "      --hover-bg-color: #E2EBFA;\n",
              "      --hover-fill-color: #174EA6;\n",
              "      --disabled-fill-color: #AAA;\n",
              "      --disabled-bg-color: #DDD;\n",
              "  }\n",
              "\n",
              "  [theme=dark] .colab-df-quickchart {\n",
              "      --bg-color: #3B4455;\n",
              "      --fill-color: #D2E3FC;\n",
              "      --hover-bg-color: #434B5C;\n",
              "      --hover-fill-color: #FFFFFF;\n",
              "      --disabled-bg-color: #3B4455;\n",
              "      --disabled-fill-color: #666;\n",
              "  }\n",
              "\n",
              "  .colab-df-quickchart {\n",
              "    background-color: var(--bg-color);\n",
              "    border: none;\n",
              "    border-radius: 50%;\n",
              "    cursor: pointer;\n",
              "    display: none;\n",
              "    fill: var(--fill-color);\n",
              "    height: 32px;\n",
              "    padding: 0;\n",
              "    width: 32px;\n",
              "  }\n",
              "\n",
              "  .colab-df-quickchart:hover {\n",
              "    background-color: var(--hover-bg-color);\n",
              "    box-shadow: 0 1px 2px rgba(60, 64, 67, 0.3), 0 1px 3px 1px rgba(60, 64, 67, 0.15);\n",
              "    fill: var(--button-hover-fill-color);\n",
              "  }\n",
              "\n",
              "  .colab-df-quickchart-complete:disabled,\n",
              "  .colab-df-quickchart-complete:disabled:hover {\n",
              "    background-color: var(--disabled-bg-color);\n",
              "    fill: var(--disabled-fill-color);\n",
              "    box-shadow: none;\n",
              "  }\n",
              "\n",
              "  .colab-df-spinner {\n",
              "    border: 2px solid var(--fill-color);\n",
              "    border-color: transparent;\n",
              "    border-bottom-color: var(--fill-color);\n",
              "    animation:\n",
              "      spin 1s steps(1) infinite;\n",
              "  }\n",
              "\n",
              "  @keyframes spin {\n",
              "    0% {\n",
              "      border-color: transparent;\n",
              "      border-bottom-color: var(--fill-color);\n",
              "      border-left-color: var(--fill-color);\n",
              "    }\n",
              "    20% {\n",
              "      border-color: transparent;\n",
              "      border-left-color: var(--fill-color);\n",
              "      border-top-color: var(--fill-color);\n",
              "    }\n",
              "    30% {\n",
              "      border-color: transparent;\n",
              "      border-left-color: var(--fill-color);\n",
              "      border-top-color: var(--fill-color);\n",
              "      border-right-color: var(--fill-color);\n",
              "    }\n",
              "    40% {\n",
              "      border-color: transparent;\n",
              "      border-right-color: var(--fill-color);\n",
              "      border-top-color: var(--fill-color);\n",
              "    }\n",
              "    60% {\n",
              "      border-color: transparent;\n",
              "      border-right-color: var(--fill-color);\n",
              "    }\n",
              "    80% {\n",
              "      border-color: transparent;\n",
              "      border-right-color: var(--fill-color);\n",
              "      border-bottom-color: var(--fill-color);\n",
              "    }\n",
              "    90% {\n",
              "      border-color: transparent;\n",
              "      border-bottom-color: var(--fill-color);\n",
              "    }\n",
              "  }\n",
              "</style>\n",
              "\n",
              "  <script>\n",
              "    async function quickchart(key) {\n",
              "      const quickchartButtonEl =\n",
              "        document.querySelector('#' + key + ' button');\n",
              "      quickchartButtonEl.disabled = true;  // To prevent multiple clicks.\n",
              "      quickchartButtonEl.classList.add('colab-df-spinner');\n",
              "      try {\n",
              "        const charts = await google.colab.kernel.invokeFunction(\n",
              "            'suggestCharts', [key], {});\n",
              "      } catch (error) {\n",
              "        console.error('Error during call to suggestCharts:', error);\n",
              "      }\n",
              "      quickchartButtonEl.classList.remove('colab-df-spinner');\n",
              "      quickchartButtonEl.classList.add('colab-df-quickchart-complete');\n",
              "    }\n",
              "    (() => {\n",
              "      let quickchartButtonEl =\n",
              "        document.querySelector('#df-7af71542-9a20-484e-ac88-c976e6fc5dd4 button');\n",
              "      quickchartButtonEl.style.display =\n",
              "        google.colab.kernel.accessAllowed ? 'block' : 'none';\n",
              "    })();\n",
              "  </script>\n",
              "</div>\n",
              "\n",
              "    </div>\n",
              "  </div>\n"
            ],
            "application/vnd.google.colaboratory.intrinsic+json": {
              "type": "dataframe",
              "variable_name": "df",
              "summary": "{\n  \"name\": \"df\",\n  \"rows\": 7380,\n  \"fields\": [\n    {\n      \"column\": \"Waybill Date\",\n      \"properties\": {\n        \"dtype\": \"object\",\n        \"num_unique_values\": 63,\n        \"samples\": [\n          \"2024-09-14\",\n          \"2024-08-05\",\n          \"2024-09-06\"\n        ],\n        \"semantic_type\": \"\",\n        \"description\": \"\"\n      }\n    },\n    {\n      \"column\": \"Origin\",\n      \"properties\": {\n        \"dtype\": \"category\",\n        \"num_unique_values\": 13,\n        \"samples\": [\n          \"DETROIT INTER TERM\",\n          \"EDMONTON INTER TERM\",\n          \"ROBERTS BANK\"\n        ],\n        \"semantic_type\": \"\",\n        \"description\": \"\"\n      }\n    },\n    {\n      \"column\": \"Origin-St\",\n      \"properties\": {\n        \"dtype\": \"category\",\n        \"num_unique_values\": 9,\n        \"samples\": [\n          \"MI\",\n          \"MB\",\n          \"AB\"\n        ],\n        \"semantic_type\": \"\",\n        \"description\": \"\"\n      }\n    },\n    {\n      \"column\": \"Destination\",\n      \"properties\": {\n        \"dtype\": \"category\",\n        \"num_unique_values\": 17,\n        \"samples\": [\n          \"EDMONTON INTER TERM\",\n          \"BRAMPTON INTER TERM\",\n          \"FAIRVIEW COVE IMPEX\"\n        ],\n        \"semantic_type\": \"\",\n        \"description\": \"\"\n      }\n    },\n    {\n      \"column\": \"Destination-St\",\n      \"properties\": {\n        \"dtype\": \"category\",\n        \"num_unique_values\": 12,\n        \"samples\": [\n          \"SK\",\n          \"MI\",\n          \"AB\"\n        ],\n        \"semantic_type\": \"\",\n        \"description\": \"\"\n      }\n    },\n    {\n      \"column\": \"Commodity\",\n      \"properties\": {\n        \"dtype\": \"category\",\n        \"num_unique_values\": 244,\n        \"samples\": [\n          \"Cattle, feeder\",\n          \"Prunes\",\n          \"Quinoa\"\n        ],\n        \"semantic_type\": \"\",\n        \"description\": \"\"\n      }\n    },\n    {\n      \"column\": \"Railcars-Containers\",\n      \"properties\": {\n        \"dtype\": \"number\",\n        \"std\": 0,\n        \"min\": 1,\n        \"max\": 1,\n        \"num_unique_values\": 1,\n        \"samples\": [\n          1\n        ],\n        \"semantic_type\": \"\",\n        \"description\": \"\"\n      }\n    },\n    {\n      \"column\": \"Rail-Miles\",\n      \"properties\": {\n        \"dtype\": \"number\",\n        \"std\": 927.8769135566855,\n        \"min\": 398.3,\n        \"max\": 3838.4,\n        \"num_unique_values\": 42,\n        \"samples\": [\n          767.9\n        ],\n        \"semantic_type\": \"\",\n        \"description\": \"\"\n      }\n    },\n    {\n      \"column\": \"Net-Weight-Tons\",\n      \"properties\": {\n        \"dtype\": \"number\",\n        \"std\": 8,\n        \"min\": 1,\n        \"max\": 32,\n        \"num_unique_values\": 32,\n        \"samples\": [\n          26\n        ],\n        \"semantic_type\": \"\",\n        \"description\": \"\"\n      }\n    },\n    {\n      \"column\": \"Metric-Tonnes\",\n      \"properties\": {\n        \"dtype\": \"number\",\n        \"std\": 7.601021014921583,\n        \"min\": 0.91,\n        \"max\": 29.03,\n        \"num_unique_values\": 32,\n        \"samples\": [\n          23.59\n        ],\n        \"semantic_type\": \"\",\n        \"description\": \"\"\n      }\n    },\n    {\n      \"column\": \"Rail-km\",\n      \"properties\": {\n        \"dtype\": \"number\",\n        \"std\": 1493.2330191764117,\n        \"min\": 640.98,\n        \"max\": 6177.14,\n        \"num_unique_values\": 42,\n        \"samples\": [\n          1235.78\n        ],\n        \"semantic_type\": \"\",\n        \"description\": \"\"\n      }\n    },\n    {\n      \"column\": \"Rail-GHG-Emissions-Tonnes\",\n      \"properties\": {\n        \"dtype\": \"number\",\n        \"std\": 0.38564154776966025,\n        \"min\": 0.01,\n        \"max\": 2.2,\n        \"num_unique_values\": 148,\n        \"samples\": [\n          0.75\n        ],\n        \"semantic_type\": \"\",\n        \"description\": \"\"\n      }\n    },\n    {\n      \"column\": \"Truck-GHG-Emissions-Tonnes\",\n      \"properties\": {\n        \"dtype\": \"number\",\n        \"std\": 2.333258454048051,\n        \"min\": 0.09,\n        \"max\": 13.29,\n        \"num_unique_values\": 363,\n        \"samples\": [\n          2.64\n        ],\n        \"semantic_type\": \"\",\n        \"description\": \"\"\n      }\n    }\n  ]\n}"
            }
          },
          "metadata": {},
          "execution_count": 60
        }
      ],
      "source": [
        "import pandas as pd\n",
        "df = pd.read_csv('data/testD-1.csv')\n",
        "df.head(5)"
      ]
    },
    {
      "cell_type": "code",
      "execution_count": null,
      "metadata": {
        "colab": {
          "base_uri": "https://localhost:8080/",
          "height": 34
        },
        "id": "ajOaLk7Rn18K",
        "outputId": "17fc02c1-0cc0-4308-9c73-8809cd2a83a0"
      },
      "outputs": [
        {
          "output_type": "display_data",
          "data": {
            "text/plain": [
              "<IPython.core.display.Javascript object>"
            ],
            "application/javascript": [
              "google.colab.output.setIframeHeight(0, true, {maxHeight: 5000})"
            ]
          },
          "metadata": {}
        },
        {
          "output_type": "display_data",
          "data": {
            "text/plain": [
              "<IPython.core.display.Javascript object>"
            ],
            "application/javascript": [
              "google.colab.output.setIframeHeight(0, true, {maxHeight: 5000})"
            ]
          },
          "metadata": {}
        },
        {
          "output_type": "display_data",
          "data": {
            "text/plain": [
              "<IPython.core.display.Javascript object>"
            ],
            "application/javascript": [
              "google.colab.output.setIframeHeight(0, true, {maxHeight: 5000})"
            ]
          },
          "metadata": {}
        },
        {
          "output_type": "display_data",
          "data": {
            "text/plain": [
              "<IPython.core.display.Javascript object>"
            ],
            "application/javascript": [
              "google.colab.output.setIframeHeight(0, true, {maxHeight: 5000})"
            ]
          },
          "metadata": {}
        },
        {
          "output_type": "execute_result",
          "data": {
            "text/plain": [
              "244"
            ]
          },
          "metadata": {},
          "execution_count": 61
        }
      ],
      "source": [
        "len(df['Commodity'].unique())"
      ]
    },
    {
      "cell_type": "code",
      "execution_count": null,
      "metadata": {
        "colab": {
          "base_uri": "https://localhost:8080/",
          "height": 104
        },
        "id": "_QhjCYIO5mEz",
        "outputId": "c63dd9dd-6824-45d4-f6c8-0ed79e69deab"
      },
      "outputs": [
        {
          "output_type": "display_data",
          "data": {
            "text/plain": [
              "<IPython.core.display.Javascript object>"
            ],
            "application/javascript": [
              "google.colab.output.setIframeHeight(0, true, {maxHeight: 5000})"
            ]
          },
          "metadata": {}
        },
        {
          "output_type": "display_data",
          "data": {
            "text/plain": [
              "<IPython.core.display.Javascript object>"
            ],
            "application/javascript": [
              "google.colab.output.setIframeHeight(0, true, {maxHeight: 5000})"
            ]
          },
          "metadata": {}
        },
        {
          "output_type": "display_data",
          "data": {
            "text/plain": [
              "<IPython.core.display.Javascript object>"
            ],
            "application/javascript": [
              "google.colab.output.setIframeHeight(0, true, {maxHeight: 5000})"
            ]
          },
          "metadata": {}
        },
        {
          "output_type": "display_data",
          "data": {
            "text/plain": [
              "<IPython.core.display.Javascript object>"
            ],
            "application/javascript": [
              "google.colab.output.setIframeHeight(0, true, {maxHeight: 5000})"
            ]
          },
          "metadata": {}
        },
        {
          "output_type": "execute_result",
          "data": {
            "text/plain": [
              "Index(['Waybill Date', 'Origin', 'Origin-St', 'Destination', 'Destination-St',\n",
              "       'Commodity', 'Railcars-Containers', 'Rail-Miles', 'Net-Weight-Tons',\n",
              "       'Metric-Tonnes', 'Rail-km', 'Rail-GHG-Emissions-Tonnes',\n",
              "       'Truck-GHG-Emissions-Tonnes'],\n",
              "      dtype='object')"
            ]
          },
          "metadata": {},
          "execution_count": 62
        }
      ],
      "source": [
        "df.columns"
      ]
    },
    {
      "cell_type": "code",
      "execution_count": null,
      "metadata": {
        "colab": {
          "base_uri": "https://localhost:8080/",
          "height": 364
        },
        "id": "eCnshJyU5ols",
        "outputId": "0b4a6ee1-e40f-4ff5-e3ac-474b340cc17a"
      },
      "outputs": [
        {
          "output_type": "display_data",
          "data": {
            "text/plain": [
              "<IPython.core.display.Javascript object>"
            ],
            "application/javascript": [
              "google.colab.output.setIframeHeight(0, true, {maxHeight: 5000})"
            ]
          },
          "metadata": {}
        },
        {
          "output_type": "display_data",
          "data": {
            "text/plain": [
              "<IPython.core.display.Javascript object>"
            ],
            "application/javascript": [
              "google.colab.output.setIframeHeight(0, true, {maxHeight: 5000})"
            ]
          },
          "metadata": {}
        },
        {
          "output_type": "display_data",
          "data": {
            "text/plain": [
              "<IPython.core.display.Javascript object>"
            ],
            "application/javascript": [
              "google.colab.output.setIframeHeight(0, true, {maxHeight: 5000})"
            ]
          },
          "metadata": {}
        },
        {
          "output_type": "display_data",
          "data": {
            "text/plain": [
              "<IPython.core.display.Javascript object>"
            ],
            "application/javascript": [
              "google.colab.output.setIframeHeight(0, true, {maxHeight: 5000})"
            ]
          },
          "metadata": {}
        },
        {
          "output_type": "stream",
          "name": "stdout",
          "text": [
            "<class 'pandas.core.frame.DataFrame'>\n",
            "RangeIndex: 7380 entries, 0 to 7379\n",
            "Data columns (total 13 columns):\n",
            " #   Column                      Non-Null Count  Dtype  \n",
            "---  ------                      --------------  -----  \n",
            " 0   Waybill Date                7380 non-null   object \n",
            " 1   Origin                      7380 non-null   object \n",
            " 2   Origin-St                   7380 non-null   object \n",
            " 3   Destination                 7380 non-null   object \n",
            " 4   Destination-St              7380 non-null   object \n",
            " 5   Commodity                   7380 non-null   object \n",
            " 6   Railcars-Containers         7380 non-null   int64  \n",
            " 7   Rail-Miles                  7380 non-null   float64\n",
            " 8   Net-Weight-Tons             7380 non-null   int64  \n",
            " 9   Metric-Tonnes               7380 non-null   float64\n",
            " 10  Rail-km                     7380 non-null   float64\n",
            " 11  Rail-GHG-Emissions-Tonnes   7380 non-null   float64\n",
            " 12  Truck-GHG-Emissions-Tonnes  7380 non-null   float64\n",
            "dtypes: float64(5), int64(2), object(6)\n",
            "memory usage: 749.7+ KB\n"
          ]
        }
      ],
      "source": [
        "df.info()"
      ]
    },
    {
      "cell_type": "code",
      "execution_count": null,
      "metadata": {
        "colab": {
          "base_uri": "https://localhost:8080/",
          "height": 17
        },
        "id": "QpLeC7vm9tG-",
        "outputId": "03b22bee-1ad7-4a51-a674-402c7de99b82"
      },
      "outputs": [
        {
          "output_type": "display_data",
          "data": {
            "text/plain": [
              "<IPython.core.display.Javascript object>"
            ],
            "application/javascript": [
              "google.colab.output.setIframeHeight(0, true, {maxHeight: 5000})"
            ]
          },
          "metadata": {}
        },
        {
          "output_type": "display_data",
          "data": {
            "text/plain": [
              "<IPython.core.display.Javascript object>"
            ],
            "application/javascript": [
              "google.colab.output.setIframeHeight(0, true, {maxHeight: 5000})"
            ]
          },
          "metadata": {}
        },
        {
          "output_type": "display_data",
          "data": {
            "text/plain": [
              "<IPython.core.display.Javascript object>"
            ],
            "application/javascript": [
              "google.colab.output.setIframeHeight(0, true, {maxHeight: 5000})"
            ]
          },
          "metadata": {}
        },
        {
          "output_type": "display_data",
          "data": {
            "text/plain": [
              "<IPython.core.display.Javascript object>"
            ],
            "application/javascript": [
              "google.colab.output.setIframeHeight(0, true, {maxHeight: 5000})"
            ]
          },
          "metadata": {}
        }
      ],
      "source": [
        "file_path = \"/content/drive/MyDrive/COMP685/data/testD-1.csv\""
      ]
    },
    {
      "cell_type": "markdown",
      "metadata": {
        "id": "dIHe6AWZXQkK"
      },
      "source": [
        "## Data preparation"
      ]
    },
    {
      "cell_type": "code",
      "execution_count": null,
      "metadata": {
        "colab": {
          "base_uri": "https://localhost:8080/",
          "height": 17
        },
        "id": "mOTpde5E1B_5",
        "outputId": "f0fb14f9-6d80-4489-c603-5691d1396795"
      },
      "outputs": [
        {
          "output_type": "display_data",
          "data": {
            "text/plain": [
              "<IPython.core.display.Javascript object>"
            ],
            "application/javascript": [
              "google.colab.output.setIframeHeight(0, true, {maxHeight: 5000})"
            ]
          },
          "metadata": {}
        },
        {
          "output_type": "display_data",
          "data": {
            "text/plain": [
              "<IPython.core.display.Javascript object>"
            ],
            "application/javascript": [
              "google.colab.output.setIframeHeight(0, true, {maxHeight: 5000})"
            ]
          },
          "metadata": {}
        },
        {
          "output_type": "display_data",
          "data": {
            "text/plain": [
              "<IPython.core.display.Javascript object>"
            ],
            "application/javascript": [
              "google.colab.output.setIframeHeight(0, true, {maxHeight: 5000})"
            ]
          },
          "metadata": {}
        },
        {
          "output_type": "display_data",
          "data": {
            "text/plain": [
              "<IPython.core.display.Javascript object>"
            ],
            "application/javascript": [
              "google.colab.output.setIframeHeight(0, true, {maxHeight: 5000})"
            ]
          },
          "metadata": {}
        }
      ],
      "source": [
        "class Data:\n",
        "    def __init__(self, name=\"Dataset\"):\n",
        "        self.name = name\n",
        "        self.trainDataset = None\n",
        "        self.testDataset = None\n",
        "        self.x_train = None\n",
        "        self.y_train = None\n",
        "        self.x_test = None\n",
        "        self.y_test = None\n",
        "\n",
        "        # Using OrdinalEncoder with encoded_values parameter\n",
        "        self.encoder = OrdinalEncoder(\n",
        "            handle_unknown='use_encoded_value',\n",
        "            unknown_value=-1,  # Added this parameter\n",
        "            encoded_missing_value=-999  # Different value for missing data\n",
        "        )\n",
        "\n",
        "        # Store column names for categorical variables\n",
        "        self.categorical_cols = [\n",
        "            'Waybill Date', 'Origin', 'Origin-St',\n",
        "            'Destination', 'Destination-St', 'Commodity'\n",
        "        ]\n",
        "\n",
        "    def analyze_categorical_variables(self, data):\n",
        "        categorical_analysis = {}\n",
        "\n",
        "        for col in self.categorical_cols:\n",
        "            # Get value counts and unique counts\n",
        "            value_counts = data[col].value_counts()\n",
        "            unique_count = len(value_counts)\n",
        "\n",
        "            # Calculate frequencies and percentages\n",
        "            frequencies = value_counts.values\n",
        "            percentages = (value_counts / len(data) * 100).round(2)\n",
        "\n",
        "            # Combine into a DataFrame\n",
        "            category_df = pd.DataFrame({\n",
        "                'Frequency': frequencies,\n",
        "                'Percentage': percentages\n",
        "            }, index=value_counts.index)\n",
        "\n",
        "            # Calculate additional statistics\n",
        "            stats_dict = {\n",
        "                'unique_count': unique_count,\n",
        "                'most_common': value_counts.iloc[0],\n",
        "                'most_common_freq': frequencies[0],\n",
        "                'most_common_pct': percentages.iloc[0],\n",
        "                'least_common': value_counts.iloc[-1],\n",
        "                'least_common_freq': frequencies[-1],\n",
        "                'least_common_pct': percentages.iloc[-1],\n",
        "            }\n",
        "\n",
        "            # Combine everything into the results dictionary\n",
        "            categorical_analysis[col] = {\n",
        "                'summary_stats': stats_dict,\n",
        "                'detailed_breakdown': category_df\n",
        "            }\n",
        "\n",
        "        return categorical_analysis\n",
        "\n",
        "    def load_train_data(self, filename, target_col, predict_col, test_size=0.3):\n",
        "        # Load data\n",
        "        df = pd.read_csv(filename, encoding='utf8')\n",
        "\n",
        "        # Split into features and target\n",
        "        X = df.drop(columns=target_col)\n",
        "        y = df[predict_col]\n",
        "\n",
        "        # Split the data first\n",
        "        X_train, X_test, y_train, y_test = train_test_split(\n",
        "            X, y, test_size=test_size, random_state=42\n",
        "        )\n",
        "        self.x_train_num_vars = X_train.describe()\n",
        "        self.x_test_num_vars = X_test.describe()\n",
        "        self.x_train_cat_vars = self.analyze_categorical_variables(X_train)\n",
        "        self.x_test_cat_vars = self.analyze_categorical_variables(X_test)\n",
        "        self.feature_names = list(X.columns)\n",
        "\n",
        "        # Extract categorical columns\n",
        "        X_train_cat = X_train[self.categorical_cols]\n",
        "        X_test_cat = X_test[self.categorical_cols]\n",
        "\n",
        "        # Fit and transform on training data\n",
        "        X_train_cat_encoded = self.encoder.fit_transform(X_train_cat)\n",
        "        # Transform test data using the same encoder\n",
        "        X_test_cat_encoded = self.encoder.transform(X_test_cat)\n",
        "\n",
        "        # Replace categorical columns with encoded values\n",
        "        X_train_encoded = X_train.copy()\n",
        "        X_test_encoded = X_test.copy()\n",
        "        X_train_encoded[self.categorical_cols] = X_train_cat_encoded\n",
        "        X_test_encoded[self.categorical_cols] = X_test_cat_encoded\n",
        "\n",
        "        # Convert to numpy arrays and store\n",
        "        self.x_train = X_train_encoded.to_numpy()\n",
        "        self.y_train = y_train.to_numpy()\n",
        "        self.x_test = X_test_encoded.to_numpy()\n",
        "        self.y_test = y_test.to_numpy()\n",
        "\n",
        "        # Store full datasets\n",
        "        self.trainDataset = np.column_stack((self.x_train, self.y_train))\n",
        "        self.testDataset = np.column_stack((self.x_test, self.y_test))\n",
        "\n",
        "        return self"
      ]
    },
    {
      "cell_type": "code",
      "execution_count": null,
      "metadata": {
        "colab": {
          "base_uri": "https://localhost:8080/",
          "height": 104
        },
        "id": "ei7igzGpDqHG",
        "outputId": "f7cc575a-62c6-4c30-8e44-f8f9041f38a0"
      },
      "outputs": [
        {
          "output_type": "display_data",
          "data": {
            "text/plain": [
              "<IPython.core.display.Javascript object>"
            ],
            "application/javascript": [
              "google.colab.output.setIframeHeight(0, true, {maxHeight: 5000})"
            ]
          },
          "metadata": {}
        },
        {
          "output_type": "display_data",
          "data": {
            "text/plain": [
              "<IPython.core.display.Javascript object>"
            ],
            "application/javascript": [
              "google.colab.output.setIframeHeight(0, true, {maxHeight: 5000})"
            ]
          },
          "metadata": {}
        },
        {
          "output_type": "display_data",
          "data": {
            "text/plain": [
              "<IPython.core.display.Javascript object>"
            ],
            "application/javascript": [
              "google.colab.output.setIframeHeight(0, true, {maxHeight: 5000})"
            ]
          },
          "metadata": {}
        },
        {
          "output_type": "display_data",
          "data": {
            "text/plain": [
              "<IPython.core.display.Javascript object>"
            ],
            "application/javascript": [
              "google.colab.output.setIframeHeight(0, true, {maxHeight: 5000})"
            ]
          },
          "metadata": {}
        },
        {
          "output_type": "stream",
          "name": "stdout",
          "text": [
            "X_train= (5166, 11)\n",
            "Y_train= (5166,)\n",
            "X_test= (2214, 11)\n",
            "Y_test= (2214,)\n",
            "Feature names:  ['Waybill Date', 'Origin', 'Origin-St', 'Destination', 'Destination-St', 'Commodity', 'Railcars-Containers', 'Rail-Miles', 'Net-Weight-Tons', 'Metric-Tonnes', 'Rail-km']\n"
          ]
        }
      ],
      "source": [
        "# Load train data\n",
        "\n",
        "co2_data = Data(\"CO2 Dataset\")\n",
        "target_col = [\"Rail-GHG-Emissions-Tonnes\", \"Truck-GHG-Emissions-Tonnes\"]\n",
        "predict_col = \"Truck-GHG-Emissions-Tonnes\"\n",
        "\n",
        "co2_data.load_train_data(filename=file_path, target_col=target_col, predict_col=predict_col, test_size=0.3)\n",
        "print(\"X_train=\", co2_data.x_train.shape)\n",
        "print(\"Y_train=\", co2_data.y_train.shape)\n",
        "print(\"X_test=\", co2_data.x_test.shape)\n",
        "print(\"Y_test=\", co2_data.y_test.shape)\n",
        "print(\"Feature names: \", co2_data.feature_names)"
      ]
    },
    {
      "cell_type": "markdown",
      "metadata": {
        "id": "oKkpxmJcm3eJ"
      },
      "source": [
        "## Random Forest Regressor, XGBoost Regressor"
      ]
    },
    {
      "cell_type": "code",
      "execution_count": null,
      "metadata": {
        "colab": {
          "base_uri": "https://localhost:8080/",
          "height": 17
        },
        "id": "1pvwghE2MFtK",
        "outputId": "b91aa935-da7a-4dea-a912-99786eeade83"
      },
      "outputs": [
        {
          "output_type": "display_data",
          "data": {
            "text/plain": [
              "<IPython.core.display.Javascript object>"
            ],
            "application/javascript": [
              "google.colab.output.setIframeHeight(0, true, {maxHeight: 5000})"
            ]
          },
          "metadata": {}
        },
        {
          "output_type": "display_data",
          "data": {
            "text/plain": [
              "<IPython.core.display.Javascript object>"
            ],
            "application/javascript": [
              "google.colab.output.setIframeHeight(0, true, {maxHeight: 5000})"
            ]
          },
          "metadata": {}
        },
        {
          "output_type": "display_data",
          "data": {
            "text/plain": [
              "<IPython.core.display.Javascript object>"
            ],
            "application/javascript": [
              "google.colab.output.setIframeHeight(0, true, {maxHeight: 5000})"
            ]
          },
          "metadata": {}
        },
        {
          "output_type": "display_data",
          "data": {
            "text/plain": [
              "<IPython.core.display.Javascript object>"
            ],
            "application/javascript": [
              "google.colab.output.setIframeHeight(0, true, {maxHeight: 5000})"
            ]
          },
          "metadata": {}
        }
      ],
      "source": [
        "import matplotlib.pyplot as plt\n",
        "import seaborn as sns\n",
        "import shap\n",
        "\n",
        "class RegressorModel:\n",
        "    def __init__(self, model_type='rf', model_params=None):\n",
        "        self.model_type = model_type.lower()\n",
        "        self.model_params = model_params if model_params is not None else {}\n",
        "\n",
        "        if self.model_type == 'rf':\n",
        "            default_params = {\n",
        "                'n_estimators': 100,\n",
        "                'max_depth': None,\n",
        "                'random_state': 42\n",
        "            }\n",
        "            default_params.update(self.model_params)\n",
        "            self.model = RandomForestRegressor(**default_params)\n",
        "\n",
        "        elif self.model_type == 'xgb':\n",
        "            default_params = {\n",
        "                'n_estimators': 100,\n",
        "                'max_depth': 6,\n",
        "                'learning_rate': 0.1,\n",
        "                'random_state': 42\n",
        "            }\n",
        "            default_params.update(self.model_params)\n",
        "            self.model = xgb.XGBRegressor(**default_params)\n",
        "\n",
        "        else:\n",
        "            raise ValueError(\"model_type must be either 'rf' or 'xgb'\")\n",
        "\n",
        "        self.feature_importance = None\n",
        "        self.metrics = None\n",
        "        self.shap_values = None\n",
        "        self.explainer = None\n",
        "\n",
        "    def fit(self, X_train, y_train):\n",
        "        self.model.fit(X_train, y_train)\n",
        "\n",
        "        if self.model_type == 'rf':\n",
        "            importance = self.model.feature_importances_\n",
        "        elif self.model_type == 'xgb':\n",
        "            importance = self.model.feature_importances_\n",
        "\n",
        "        self.feature_importance = pd.Series(\n",
        "            importance,\n",
        "            index=range(X_train.shape[1])\n",
        "        ).sort_values(ascending=False)\n",
        "\n",
        "        return self\n",
        "\n",
        "    def predict(self, X):\n",
        "        return self.model.predict(X)\n",
        "\n",
        "    def calculate_metrics(self, y_true, y_pred):\n",
        "        mse = mean_squared_error(y_true, y_pred)\n",
        "        rmse = root_mean_squared_error(y_true, y_pred)\n",
        "        mae = mean_absolute_error(y_true, y_pred)\n",
        "        r2 = r2_score(y_true, y_pred)\n",
        "        mape = mean_absolute_percentage_error(y_true, y_pred)\n",
        "\n",
        "        return {'MSE': mse, 'RMSE': rmse, 'MAE': mae, 'MAPE': mape, 'R2': r2}\n",
        "\n",
        "    def evaluate(self, X_train, X_test, y_train, y_test):\n",
        "        y_train_pred = self.predict(X_train)\n",
        "        y_test_pred = self.predict(X_test)\n",
        "\n",
        "        train_metrics = self.calculate_metrics(y_train, y_train_pred)\n",
        "        test_metrics = self.calculate_metrics(y_test, y_test_pred)\n",
        "\n",
        "        self.metrics = {'train': train_metrics, 'test': test_metrics}\n",
        "\n",
        "        return self.metrics\n",
        "\n",
        "    def calculate_shap_values(self, X):\n",
        "        self.explainer = shap.TreeExplainer(self.model, X)\n",
        "        self.shap_values = self.explainer(X)\n",
        "        return self.shap_values\n",
        "\n",
        "    def plot_shap_summary(self, X, feature_names=None, plot_type=\"bar\"):\n",
        "        if self.shap_values is None:\n",
        "            self.calculate_shap_values(X)\n",
        "\n",
        "        plt.figure(figsize=(10, 6))\n",
        "        if plot_type == \"bar\":\n",
        "            shap.plots.bar(self.shap_values)\n",
        "        elif plot_type == \"beeswarm\":\n",
        "            shap.plots.beeswarm(self.shap_values)\n",
        "\n",
        "        plt.tight_layout()\n",
        "        plt.show()\n",
        "\n",
        "    def get_feature_importance(self, feature_names=None):\n",
        "        if feature_names is not None:\n",
        "            self.feature_importance.index = feature_names\n",
        "        return self.feature_importance.to_frame('importance')"
      ]
    },
    {
      "cell_type": "code",
      "execution_count": null,
      "metadata": {
        "colab": {
          "base_uri": "https://localhost:8080/",
          "height": 191
        },
        "id": "4nytHckkD6O6",
        "outputId": "a48b3d7f-9cda-41d0-9dbf-5c5998e110ff"
      },
      "outputs": [
        {
          "output_type": "display_data",
          "data": {
            "text/plain": [
              "<IPython.core.display.Javascript object>"
            ],
            "application/javascript": [
              "google.colab.output.setIframeHeight(0, true, {maxHeight: 5000})"
            ]
          },
          "metadata": {}
        },
        {
          "output_type": "display_data",
          "data": {
            "text/plain": [
              "<IPython.core.display.Javascript object>"
            ],
            "application/javascript": [
              "google.colab.output.setIframeHeight(0, true, {maxHeight: 5000})"
            ]
          },
          "metadata": {}
        },
        {
          "output_type": "display_data",
          "data": {
            "text/plain": [
              "<IPython.core.display.Javascript object>"
            ],
            "application/javascript": [
              "google.colab.output.setIframeHeight(0, true, {maxHeight: 5000})"
            ]
          },
          "metadata": {}
        },
        {
          "output_type": "display_data",
          "data": {
            "text/plain": [
              "<IPython.core.display.Javascript object>"
            ],
            "application/javascript": [
              "google.colab.output.setIframeHeight(0, true, {maxHeight: 5000})"
            ]
          },
          "metadata": {}
        },
        {
          "output_type": "execute_result",
          "data": {
            "text/plain": [
              "{'train': {'MSE': 0.00035896361595043986,\n",
              "  'RMSE': 0.018946335158822665,\n",
              "  'MAE': 0.002610181958966118,\n",
              "  'MAPE': 0.0009930911503817305,\n",
              "  'R2': 0.9999340862975751},\n",
              " 'test': {'MSE': 0.004036297615176137,\n",
              "  'RMSE': 0.06353186299154258,\n",
              "  'MAE': 0.008716079494131728,\n",
              "  'MAPE': 0.002746160677451844,\n",
              "  'R2': 0.9992576008746447}}"
            ]
          },
          "metadata": {},
          "execution_count": 68
        }
      ],
      "source": [
        "X_train = co2_data.x_train\n",
        "y_train = co2_data.y_train\n",
        "X_test = co2_data.x_test\n",
        "y_test = co2_data.y_test\n",
        "\n",
        "X_train = pd.DataFrame(X_train, columns=co2_data.feature_names)\n",
        "X_test = pd.DataFrame(X_test, columns=co2_data.feature_names)\n",
        "\n",
        "rf = RegressorModel('rf')\n",
        "rf.fit(X_train, y_train)\n",
        "\n",
        "rf.evaluate(X_train, X_test, y_train, y_test)"
      ]
    },
    {
      "cell_type": "code",
      "execution_count": null,
      "metadata": {
        "colab": {
          "base_uri": "https://localhost:8080/",
          "height": 1134
        },
        "id": "8F4aZJaWEhbM",
        "outputId": "ced324af-b12e-4054-f7ee-ecfe8c59ecfb"
      },
      "outputs": [
        {
          "output_type": "display_data",
          "data": {
            "text/plain": [
              "<IPython.core.display.Javascript object>"
            ],
            "application/javascript": [
              "google.colab.output.setIframeHeight(0, true, {maxHeight: 5000})"
            ]
          },
          "metadata": {}
        },
        {
          "output_type": "display_data",
          "data": {
            "text/plain": [
              "<IPython.core.display.Javascript object>"
            ],
            "application/javascript": [
              "google.colab.output.setIframeHeight(0, true, {maxHeight: 5000})"
            ]
          },
          "metadata": {}
        },
        {
          "output_type": "display_data",
          "data": {
            "text/plain": [
              "<IPython.core.display.Javascript object>"
            ],
            "application/javascript": [
              "google.colab.output.setIframeHeight(0, true, {maxHeight: 5000})"
            ]
          },
          "metadata": {}
        },
        {
          "output_type": "display_data",
          "data": {
            "text/plain": [
              "<IPython.core.display.Javascript object>"
            ],
            "application/javascript": [
              "google.colab.output.setIframeHeight(0, true, {maxHeight: 5000})"
            ]
          },
          "metadata": {}
        },
        {
          "output_type": "stream",
          "name": "stderr",
          "text": [
            " 99%|===================| 5134/5166 [01:58<00:00]       "
          ]
        },
        {
          "output_type": "display_data",
          "data": {
            "text/plain": [
              "<Figure size 800x650 with 1 Axes>"
            ],
            "image/png": "[encoded data removed]"
          },
          "metadata": {}
        },
        {
          "output_type": "display_data",
          "data": {
            "text/plain": [
              "<Figure size 640x480 with 0 Axes>"
            ]
          },
          "metadata": {}
        },
        {
          "output_type": "display_data",
          "data": {
            "text/plain": [
              "<Figure size 800x550 with 2 Axes>"
            ],
            "image/png": "[encoded data removed]"
          },
          "metadata": {}
        },
        {
          "output_type": "display_data",
          "data": {
            "text/plain": [
              "<Figure size 640x480 with 0 Axes>"
            ]
          },
          "metadata": {}
        }
      ],
      "source": [
        "rf.calculate_shap_values(X_train)\n",
        "\n",
        "rf.plot_shap_summary(X_train, feature_names=co2_data.feature_names, plot_type=\"bar\")\n",
        "rf.plot_shap_summary(X_train, feature_names=co2_data.feature_names, plot_type=\"beeswarm\")"
      ]
    },
    {
      "cell_type": "markdown",
      "metadata": {
        "id": "6zi5n6-U72Xv"
      },
      "source": [
        "## XGBoost Regressor"
      ]
    },
    {
      "cell_type": "code",
      "execution_count": null,
      "metadata": {
        "colab": {
          "base_uri": "https://localhost:8080/",
          "height": 191
        },
        "id": "UmOZ_lqb74rY",
        "outputId": "d96dfc99-3a38-4184-eada-f27270bc092a"
      },
      "outputs": [
        {
          "output_type": "display_data",
          "data": {
            "text/plain": [
              "<IPython.core.display.Javascript object>"
            ],
            "application/javascript": [
              "google.colab.output.setIframeHeight(0, true, {maxHeight: 5000})"
            ]
          },
          "metadata": {}
        },
        {
          "output_type": "display_data",
          "data": {
            "text/plain": [
              "<IPython.core.display.Javascript object>"
            ],
            "application/javascript": [
              "google.colab.output.setIframeHeight(0, true, {maxHeight: 5000})"
            ]
          },
          "metadata": {}
        },
        {
          "output_type": "display_data",
          "data": {
            "text/plain": [
              "<IPython.core.display.Javascript object>"
            ],
            "application/javascript": [
              "google.colab.output.setIframeHeight(0, true, {maxHeight: 5000})"
            ]
          },
          "metadata": {}
        },
        {
          "output_type": "display_data",
          "data": {
            "text/plain": [
              "<IPython.core.display.Javascript object>"
            ],
            "application/javascript": [
              "google.colab.output.setIframeHeight(0, true, {maxHeight: 5000})"
            ]
          },
          "metadata": {}
        },
        {
          "output_type": "execute_result",
          "data": {
            "text/plain": [
              "{'train': {'MSE': 0.0001820424221119163,\n",
              "  'RMSE': 0.013492309739696768,\n",
              "  'MAE': 0.0074877777678348835,\n",
              "  'MAPE': 0.003631283981682599,\n",
              "  'R2': 0.9999665729630898},\n",
              " 'test': {'MSE': 0.002914990879889227,\n",
              "  'RMSE': 0.05399065548675277,\n",
              "  'MAE': 0.012675559413034616,\n",
              "  'MAPE': 0.004951979484937416,\n",
              "  'R2': 0.9994638436294906}}"
            ]
          },
          "metadata": {},
          "execution_count": 70
        }
      ],
      "source": [
        "xgb = RegressorModel('xgb')\n",
        "xgb.fit(X_train, y_train)\n",
        "\n",
        "xgb.evaluate(X_train, X_test, y_train, y_test)"
      ]
    },
    {
      "cell_type": "code",
      "execution_count": null,
      "metadata": {
        "colab": {
          "base_uri": "https://localhost:8080/",
          "height": 1134
        },
        "id": "A-eGdD7UPF35",
        "outputId": "85821d00-ff74-4161-e79d-ee29b42e585a"
      },
      "outputs": [
        {
          "output_type": "display_data",
          "data": {
            "text/plain": [
              "<IPython.core.display.Javascript object>"
            ],
            "application/javascript": [
              "google.colab.output.setIframeHeight(0, true, {maxHeight: 5000})"
            ]
          },
          "metadata": {}
        },
        {
          "output_type": "display_data",
          "data": {
            "text/plain": [
              "<IPython.core.display.Javascript object>"
            ],
            "application/javascript": [
              "google.colab.output.setIframeHeight(0, true, {maxHeight: 5000})"
            ]
          },
          "metadata": {}
        },
        {
          "output_type": "display_data",
          "data": {
            "text/plain": [
              "<IPython.core.display.Javascript object>"
            ],
            "application/javascript": [
              "google.colab.output.setIframeHeight(0, true, {maxHeight: 5000})"
            ]
          },
          "metadata": {}
        },
        {
          "output_type": "display_data",
          "data": {
            "text/plain": [
              "<IPython.core.display.Javascript object>"
            ],
            "application/javascript": [
              "google.colab.output.setIframeHeight(0, true, {maxHeight: 5000})"
            ]
          },
          "metadata": {}
        },
        {
          "output_type": "stream",
          "name": "stderr",
          "text": [
            " 97%|=================== | 5010/5166 [00:24<00:00]       "
          ]
        },
        {
          "output_type": "display_data",
          "data": {
            "text/plain": [
              "<Figure size 800x650 with 1 Axes>"
            ],
            "image/png": "[encoded data removed]"
          },
          "metadata": {}
        },
        {
          "output_type": "display_data",
          "data": {
            "text/plain": [
              "<Figure size 640x480 with 0 Axes>"
            ]
          },
          "metadata": {}
        },
        {
          "output_type": "display_data",
          "data": {
            "text/plain": [
              "<Figure size 800x550 with 2 Axes>"
            ],
            "image/png": "[encoded data removed]"
          },
          "metadata": {}
        },
        {
          "output_type": "display_data",
          "data": {
            "text/plain": [
              "<Figure size 640x480 with 0 Axes>"
            ]
          },
          "metadata": {}
        }
      ],
      "source": [
        "xgb.calculate_shap_values(X_train)\n",
        "\n",
        "xgb.plot_shap_summary(X_train, feature_names=co2_data.feature_names, plot_type=\"bar\")\n",
        "xgb.plot_shap_summary(X_train, feature_names=co2_data.feature_names, plot_type=\"beeswarm\")"
      ]
    },
    {
      "cell_type": "markdown",
      "metadata": {
        "id": "-e01kBjZ78Eb"
      },
      "source": [
        "## MLP"
      ]
    },
    {
      "cell_type": "code",
      "execution_count": null,
      "metadata": {
        "colab": {
          "base_uri": "https://localhost:8080/",
          "height": 17
        },
        "id": "N99QI6hIQM-l",
        "outputId": "4267a38a-798b-4a09-f7e4-e2d345f1e73b"
      },
      "outputs": [
        {
          "output_type": "display_data",
          "data": {
            "text/plain": [
              "<IPython.core.display.Javascript object>"
            ],
            "application/javascript": [
              "google.colab.output.setIframeHeight(0, true, {maxHeight: 5000})"
            ]
          },
          "metadata": {}
        },
        {
          "output_type": "display_data",
          "data": {
            "text/plain": [
              "<IPython.core.display.Javascript object>"
            ],
            "application/javascript": [
              "google.colab.output.setIframeHeight(0, true, {maxHeight: 5000})"
            ]
          },
          "metadata": {}
        },
        {
          "output_type": "display_data",
          "data": {
            "text/plain": [
              "<IPython.core.display.Javascript object>"
            ],
            "application/javascript": [
              "google.colab.output.setIframeHeight(0, true, {maxHeight: 5000})"
            ]
          },
          "metadata": {}
        },
        {
          "output_type": "display_data",
          "data": {
            "text/plain": [
              "<IPython.core.display.Javascript object>"
            ],
            "application/javascript": [
              "google.colab.output.setIframeHeight(0, true, {maxHeight: 5000})"
            ]
          },
          "metadata": {}
        }
      ],
      "source": [
        "import torch\n",
        "import torch.nn as nn\n",
        "from torch.utils.data import Dataset, DataLoader\n",
        "\n",
        "class CustomDataset(Dataset):\n",
        "    def __init__(self, X, y):\n",
        "        self.X = torch.FloatTensor(X)\n",
        "        self.y = torch.FloatTensor(y)\n",
        "\n",
        "    def __len__(self):\n",
        "        return len(self.X)\n",
        "\n",
        "    def __getitem__(self, idx):\n",
        "        return self.X[idx], self.y[idx]\n",
        "\n",
        "class MLPRegressor(nn.Module):\n",
        "    def __init__(self, input_dim, hidden_dims=[64, 32], dropout=0.2):\n",
        "        super().__init__()\n",
        "\n",
        "        # Build layers dynamically\n",
        "        layers = []\n",
        "        prev_dim = input_dim\n",
        "\n",
        "        for hidden_dim in hidden_dims:\n",
        "            layers.extend([\n",
        "                nn.Linear(prev_dim, hidden_dim),\n",
        "                nn.ReLU(),\n",
        "                nn.BatchNorm1d(hidden_dim),\n",
        "                nn.Dropout(dropout)\n",
        "            ])\n",
        "            prev_dim = hidden_dim\n",
        "\n",
        "        # Output layer\n",
        "        layers.append(nn.Linear(prev_dim, 1))\n",
        "\n",
        "        self.model = nn.Sequential(*layers)\n",
        "\n",
        "    def forward(self, x):\n",
        "        return self.model(x).squeeze()"
      ]
    },
    {
      "cell_type": "code",
      "execution_count": null,
      "metadata": {
        "colab": {
          "base_uri": "https://localhost:8080/",
          "height": 17
        },
        "id": "or5LGNAuUMZr",
        "outputId": "3ad00a1f-a6c7-4b30-94ba-08266d91cc57"
      },
      "outputs": [
        {
          "output_type": "display_data",
          "data": {
            "text/plain": [
              "<IPython.core.display.Javascript object>"
            ],
            "application/javascript": [
              "google.colab.output.setIframeHeight(0, true, {maxHeight: 5000})"
            ]
          },
          "metadata": {}
        },
        {
          "output_type": "display_data",
          "data": {
            "text/plain": [
              "<IPython.core.display.Javascript object>"
            ],
            "application/javascript": [
              "google.colab.output.setIframeHeight(0, true, {maxHeight: 5000})"
            ]
          },
          "metadata": {}
        },
        {
          "output_type": "display_data",
          "data": {
            "text/plain": [
              "<IPython.core.display.Javascript object>"
            ],
            "application/javascript": [
              "google.colab.output.setIframeHeight(0, true, {maxHeight: 5000})"
            ]
          },
          "metadata": {}
        },
        {
          "output_type": "display_data",
          "data": {
            "text/plain": [
              "<IPython.core.display.Javascript object>"
            ],
            "application/javascript": [
              "google.colab.output.setIframeHeight(0, true, {maxHeight: 5000})"
            ]
          },
          "metadata": {}
        }
      ],
      "source": [
        "class MLPTrainer:\n",
        "    def __init__(self, input_dim, hidden_dims=[64, 32], dropout=0.2,\n",
        "                 learning_rate=0.001, batch_size=32, epochs=100, device='cuda'):\n",
        "        self.device = torch.device(device if torch.cuda.is_available() and device=='cuda' else 'cpu')\n",
        "        self.model = MLPRegressor(input_dim, hidden_dims, dropout).to(self.device)\n",
        "        self.learning_rate = learning_rate\n",
        "        self.batch_size = batch_size\n",
        "        self.epochs = epochs\n",
        "        self.history = {'train_loss': [], 'val_loss': []}\n",
        "        self.metrics = None\n",
        "\n",
        "    def fit(self, X_train, y_train, X_val=None, y_val=None):\n",
        "        train_dataset = CustomDataset(X_train, y_train)\n",
        "        train_loader = DataLoader(train_dataset, batch_size=self.batch_size, shuffle=True)\n",
        "\n",
        "        if X_val is not None and y_val is not None:\n",
        "            val_dataset = CustomDataset(X_val, y_val)\n",
        "            val_loader = DataLoader(val_dataset, batch_size=self.batch_size)\n",
        "\n",
        "        optimizer = torch.optim.Adam(self.model.parameters(), lr=self.learning_rate)\n",
        "        criterion = nn.MSELoss()\n",
        "\n",
        "        # Training loop\n",
        "        for epoch in range(self.epochs):\n",
        "            self.model.train()\n",
        "            train_losses = []\n",
        "\n",
        "            for batch_X, batch_y in train_loader:\n",
        "                batch_X = batch_X.to(self.device)\n",
        "                batch_y = batch_y.to(self.device)\n",
        "\n",
        "                optimizer.zero_grad()\n",
        "                outputs = self.model(batch_X)\n",
        "                loss = criterion(outputs, batch_y)\n",
        "                loss.backward()\n",
        "                optimizer.step()\n",
        "\n",
        "                train_losses.append(loss.item())\n",
        "\n",
        "            avg_train_loss = np.mean(train_losses)\n",
        "            self.history['train_loss'].append(avg_train_loss)\n",
        "\n",
        "            # Validation step\n",
        "            if X_val is not None and y_val is not None:\n",
        "                self.model.eval()\n",
        "                val_losses = []\n",
        "\n",
        "                with torch.no_grad():\n",
        "                    for batch_X, batch_y in val_loader:\n",
        "                        batch_X = batch_X.to(self.device)\n",
        "                        batch_y = batch_y.to(self.device)\n",
        "\n",
        "                        outputs = self.model(batch_X)\n",
        "                        loss = criterion(outputs, batch_y)\n",
        "                        val_losses.append(loss.item())\n",
        "\n",
        "                avg_val_loss = np.mean(val_losses)\n",
        "                self.history['val_loss'].append(avg_val_loss)\n",
        "\n",
        "                if (epoch + 1) % 10 == 0:\n",
        "                    print(f'Epoch [{epoch+1}/{self.epochs}], Train Loss: {avg_train_loss:.4f}, Val Loss: {avg_val_loss:.4f}')\n",
        "            else:\n",
        "                if (epoch + 1) % 10 == 0:\n",
        "                    print(f'Epoch [{epoch+1}/{self.epochs}], Train Loss: {avg_train_loss:.4f}')\n",
        "\n",
        "    def predict(self, X):\n",
        "        self.model.eval()\n",
        "        X_tensor = torch.FloatTensor(X).to(self.device)\n",
        "\n",
        "        with torch.no_grad():\n",
        "            predictions = self.model(X_tensor)\n",
        "\n",
        "        return predictions.cpu().numpy()\n",
        "\n",
        "    def calculate_metrics(self, y_true, y_pred):\n",
        "        mse = mean_squared_error(y_true, y_pred)\n",
        "        rmse = root_mean_squared_error(y_true, y_pred)\n",
        "        mae = mean_absolute_error(y_true, y_pred)\n",
        "        r2 = r2_score(y_true, y_pred)\n",
        "        mape = mean_absolute_percentage_error(y_true, y_pred)\n",
        "\n",
        "        return {'MSE': mse, 'RMSE': rmse, 'MAE': mae, 'MAPE': mape,'R2': r2}\n",
        "\n",
        "    def evaluate(self, X_train, X_test, y_train, y_test):\n",
        "        y_train_pred = self.predict(X_train)\n",
        "        y_test_pred = self.predict(X_test)\n",
        "\n",
        "        train_metrics = self.calculate_metrics(y_train, y_train_pred)\n",
        "        test_metrics = self.calculate_metrics(y_test, y_test_pred)\n",
        "\n",
        "        self.metrics = {\n",
        "            'train': train_metrics,\n",
        "            'test': test_metrics\n",
        "        }\n",
        "\n",
        "        return self.metrics\n",
        "\n",
        "    def plot_training_history(self):\n",
        "        plt.figure(figsize=(10, 6))\n",
        "        plt.plot(self.history['train_loss'], label='Training Loss')\n",
        "        if 'val_loss' in self.history and self.history['val_loss']:\n",
        "            plt.plot(self.history['val_loss'], label='Validation Loss')\n",
        "        plt.title('Training History')\n",
        "        plt.xlabel('Epoch')\n",
        "        plt.ylabel('Loss')\n",
        "        plt.legend()\n",
        "        plt.grid(True)\n",
        "        plt.show()"
      ]
    },
    {
      "cell_type": "code",
      "execution_count": null,
      "metadata": {
        "colab": {
          "base_uri": "https://localhost:8080/",
          "height": 616
        },
        "id": "e-Bzw5mvQM8u",
        "outputId": "b43712b0-0db2-43f0-f0df-1fffd9294912"
      },
      "outputs": [
        {
          "output_type": "display_data",
          "data": {
            "text/plain": [
              "<IPython.core.display.Javascript object>"
            ],
            "application/javascript": [
              "google.colab.output.setIframeHeight(0, true, {maxHeight: 5000})"
            ]
          },
          "metadata": {}
        },
        {
          "output_type": "display_data",
          "data": {
            "text/plain": [
              "<IPython.core.display.Javascript object>"
            ],
            "application/javascript": [
              "google.colab.output.setIframeHeight(0, true, {maxHeight: 5000})"
            ]
          },
          "metadata": {}
        },
        {
          "output_type": "display_data",
          "data": {
            "text/plain": [
              "<IPython.core.display.Javascript object>"
            ],
            "application/javascript": [
              "google.colab.output.setIframeHeight(0, true, {maxHeight: 5000})"
            ]
          },
          "metadata": {}
        },
        {
          "output_type": "display_data",
          "data": {
            "text/plain": [
              "<IPython.core.display.Javascript object>"
            ],
            "application/javascript": [
              "google.colab.output.setIframeHeight(0, true, {maxHeight: 5000})"
            ]
          },
          "metadata": {}
        },
        {
          "output_type": "stream",
          "name": "stdout",
          "text": [
            "Epoch [10/10], Train Loss: 0.5696, Val Loss: 0.0342\n",
            "Train Metrics: {'MSE': 0.030720930087121068, 'RMSE': 0.17527387166124067, 'MAE': 0.12507302583902324, 'MAPE': 0.07365128314951544, 'R2': 0.9943589540722159}\n",
            "Test Metrics: {'MSE': 0.03421379610912353, 'RMSE': 0.18496971673526325, 'MAE': 0.12865764118630063, 'MAPE': 0.07664990171925762, 'R2': 0.9937070318573645}\n"
          ]
        },
        {
          "output_type": "display_data",
          "data": {
            "text/plain": [
              "<Figure size 1000x600 with 1 Axes>"
            ],
            "image/png": "[encoded data removed]"
          },
          "metadata": {}
        }
      ],
      "source": [
        "X_train = co2_data.x_train\n",
        "y_train = co2_data.y_train\n",
        "X_test = co2_data.x_test\n",
        "y_test = co2_data.y_test\n",
        "\n",
        "import sklearn.preprocessing as pp\n",
        "scaler = pp.StandardScaler().fit(X_train)\n",
        "X_train, X_test = scaler.transform(X_train), scaler.transform(X_test)\n",
        "\n",
        "trainer = MLPTrainer(\n",
        "    input_dim=X_train.shape[1],\n",
        "    hidden_dims=[64, 32],\n",
        "    dropout=0.2,\n",
        "    learning_rate=0.001,\n",
        "    batch_size=32,\n",
        "    epochs=10\n",
        ")\n",
        "\n",
        "# Train model\n",
        "trainer.fit(X_train, y_train, X_test, y_test)\n",
        "\n",
        "# Evaluate model\n",
        "metrics = trainer.evaluate(X_train, X_test, y_train, y_test)\n",
        "print(\"Train Metrics:\", metrics['train'])\n",
        "print(\"Test Metrics:\", metrics['test'])\n",
        "\n",
        "# Plot training history\n",
        "trainer.plot_training_history()"
      ]
    },
    {
      "cell_type": "markdown",
      "metadata": {
        "id": "bhRE3pFB79t3"
      },
      "source": [
        "## LSTM"
      ]
    },
    {
      "cell_type": "code",
      "execution_count": null,
      "metadata": {
        "colab": {
          "base_uri": "https://localhost:8080/",
          "height": 17
        },
        "id": "rG65PlES7_JQ",
        "outputId": "f78eec5b-b576-4632-ee16-748a3c2f2221"
      },
      "outputs": [
        {
          "output_type": "display_data",
          "data": {
            "text/plain": [
              "<IPython.core.display.Javascript object>"
            ],
            "application/javascript": [
              "google.colab.output.setIframeHeight(0, true, {maxHeight: 5000})"
            ]
          },
          "metadata": {}
        },
        {
          "output_type": "display_data",
          "data": {
            "text/plain": [
              "<IPython.core.display.Javascript object>"
            ],
            "application/javascript": [
              "google.colab.output.setIframeHeight(0, true, {maxHeight: 5000})"
            ]
          },
          "metadata": {}
        },
        {
          "output_type": "display_data",
          "data": {
            "text/plain": [
              "<IPython.core.display.Javascript object>"
            ],
            "application/javascript": [
              "google.colab.output.setIframeHeight(0, true, {maxHeight: 5000})"
            ]
          },
          "metadata": {}
        },
        {
          "output_type": "display_data",
          "data": {
            "text/plain": [
              "<IPython.core.display.Javascript object>"
            ],
            "application/javascript": [
              "google.colab.output.setIframeHeight(0, true, {maxHeight: 5000})"
            ]
          },
          "metadata": {}
        }
      ],
      "source": [
        "class CustomDataset(Dataset):\n",
        "    \"\"\"Custom Dataset for loading the data\"\"\"\n",
        "    def __init__(self, X, y, sequence_length=1):\n",
        "        # Reshape X to [batch_size, sequence_length, feature_dim]\n",
        "         # Add sequence dimension, sequence_length = 1\n",
        "        self.X = torch.FloatTensor(X).unsqueeze(1)\n",
        "        self.y = torch.FloatTensor(y)\n",
        "\n",
        "    def __len__(self):\n",
        "        return len(self.X)\n",
        "\n",
        "    def __getitem__(self, idx):\n",
        "        return self.X[idx], self.y[idx]\n",
        "\n",
        "class LSTMRegressor(nn.Module):\n",
        "    def __init__(self, input_dim, hidden_dim=64, num_layers=2, dropout=0.2):\n",
        "        super().__init__()\n",
        "\n",
        "        self.lstm = nn.LSTM(\n",
        "            input_size=input_dim,\n",
        "            hidden_size=hidden_dim,\n",
        "            num_layers=num_layers,\n",
        "            batch_first=True,\n",
        "            dropout=dropout if num_layers > 1 else 0\n",
        "        )\n",
        "\n",
        "        self.reg_head = nn.Sequential(\n",
        "            nn.Linear(hidden_dim, hidden_dim // 2),\n",
        "            nn.ReLU(),\n",
        "            nn.Dropout(dropout),\n",
        "            nn.Linear(hidden_dim // 2, 1)\n",
        "        )\n",
        "\n",
        "    def forward(self, x):\n",
        "        # LSTM output: [batch_size, seq_len, hidden_dim]\n",
        "        lstm_out, _ = self.lstm(x)\n",
        "        # Take the last sequence output\n",
        "        last_output = lstm_out[:, -1, :]\n",
        "        # Regression head\n",
        "        out = self.reg_head(last_output)\n",
        "        return out.squeeze()"
      ]
    },
    {
      "cell_type": "code",
      "execution_count": null,
      "metadata": {
        "id": "POoz1VVsVTnj",
        "colab": {
          "base_uri": "https://localhost:8080/",
          "height": 17
        },
        "outputId": "7827e626-ad0a-48cc-a692-8fb1087f2511"
      },
      "outputs": [
        {
          "output_type": "display_data",
          "data": {
            "text/plain": [
              "<IPython.core.display.Javascript object>"
            ],
            "application/javascript": [
              "google.colab.output.setIframeHeight(0, true, {maxHeight: 5000})"
            ]
          },
          "metadata": {}
        },
        {
          "output_type": "display_data",
          "data": {
            "text/plain": [
              "<IPython.core.display.Javascript object>"
            ],
            "application/javascript": [
              "google.colab.output.setIframeHeight(0, true, {maxHeight: 5000})"
            ]
          },
          "metadata": {}
        },
        {
          "output_type": "display_data",
          "data": {
            "text/plain": [
              "<IPython.core.display.Javascript object>"
            ],
            "application/javascript": [
              "google.colab.output.setIframeHeight(0, true, {maxHeight: 5000})"
            ]
          },
          "metadata": {}
        },
        {
          "output_type": "display_data",
          "data": {
            "text/plain": [
              "<IPython.core.display.Javascript object>"
            ],
            "application/javascript": [
              "google.colab.output.setIframeHeight(0, true, {maxHeight: 5000})"
            ]
          },
          "metadata": {}
        }
      ],
      "source": [
        "class LSTMTrainer:\n",
        "    def __init__(self, input_dim, hidden_dim=64, num_layers=2, dropout=0.2,\n",
        "                 learning_rate=0.001, batch_size=32, epochs=100, device='cuda'):\n",
        "        self.device = torch.device(device if torch.cuda.is_available() and device=='cuda' else 'cpu')\n",
        "        self.model = LSTMRegressor(input_dim, hidden_dim, num_layers, dropout).to(self.device)\n",
        "        self.learning_rate = learning_rate\n",
        "        self.batch_size = batch_size\n",
        "        self.epochs = epochs\n",
        "        self.history = {'train_loss': [], 'val_loss': []}\n",
        "        self.metrics = None\n",
        "\n",
        "    def fit(self, X_train, y_train, X_val=None, y_val=None):\n",
        "        \"\"\"Train the model\"\"\"\n",
        "        # Create data loaders\n",
        "        train_dataset = CustomDataset(X_train, y_train)\n",
        "        train_loader = DataLoader(train_dataset, batch_size=self.batch_size, shuffle=True)\n",
        "\n",
        "        if X_val is not None and y_val is not None:\n",
        "            val_dataset = CustomDataset(X_val, y_val)\n",
        "            val_loader = DataLoader(val_dataset, batch_size=self.batch_size)\n",
        "\n",
        "        # Initialize optimizer and loss function\n",
        "        optimizer = torch.optim.Adam(self.model.parameters(), lr=self.learning_rate)\n",
        "        criterion = nn.MSELoss()\n",
        "\n",
        "        # Training loop\n",
        "        for epoch in range(self.epochs):\n",
        "            self.model.train()\n",
        "            train_losses = []\n",
        "\n",
        "            # Training step\n",
        "            for batch_X, batch_y in train_loader:\n",
        "                batch_X = batch_X.to(self.device)\n",
        "                batch_y = batch_y.to(self.device)\n",
        "\n",
        "                optimizer.zero_grad()\n",
        "                outputs = self.model(batch_X)\n",
        "                loss = criterion(outputs, batch_y)\n",
        "                loss.backward()\n",
        "                optimizer.step()\n",
        "\n",
        "                train_losses.append(loss.item())\n",
        "\n",
        "            avg_train_loss = np.mean(train_losses)\n",
        "            self.history['train_loss'].append(avg_train_loss)\n",
        "\n",
        "            # Validation step\n",
        "            if X_val is not None and y_val is not None:\n",
        "                self.model.eval()\n",
        "                val_losses = []\n",
        "\n",
        "                with torch.no_grad():\n",
        "                    for batch_X, batch_y in val_loader:\n",
        "                        batch_X = batch_X.to(self.device)\n",
        "                        batch_y = batch_y.to(self.device)\n",
        "\n",
        "                        outputs = self.model(batch_X)\n",
        "                        loss = criterion(outputs, batch_y)\n",
        "                        val_losses.append(loss.item())\n",
        "\n",
        "                avg_val_loss = np.mean(val_losses)\n",
        "                self.history['val_loss'].append(avg_val_loss)\n",
        "\n",
        "                if (epoch + 1) % 10 == 0:\n",
        "                    print(f'Epoch [{epoch+1}/{self.epochs}], Train Loss: {avg_train_loss:.4f}, Val Loss: {avg_val_loss:.4f}')\n",
        "            else:\n",
        "                if (epoch + 1) % 10 == 0:\n",
        "                    print(f'Epoch [{epoch+1}/{self.epochs}], Train Loss: {avg_train_loss:.4f}')\n",
        "\n",
        "    def predict(self, X):\n",
        "        \"\"\"Make predictions\"\"\"\n",
        "        self.model.eval()\n",
        "        # Reshape X to include sequence dimension\n",
        "        X_tensor = torch.FloatTensor(X).unsqueeze(1).to(self.device)\n",
        "\n",
        "        with torch.no_grad():\n",
        "            predictions = self.model(X_tensor)\n",
        "\n",
        "        return predictions.cpu().numpy()\n",
        "\n",
        "    def calculate_metrics(self, y_true, y_pred):\n",
        "        \"\"\"Calculate regression metrics\"\"\"\n",
        "        mse = mean_squared_error(y_true, y_pred)\n",
        "        rmse = np.sqrt(mse)\n",
        "        mae = mean_absolute_error(y_true, y_pred)\n",
        "        r2 = r2_score(y_true, y_pred)\n",
        "        mape = mean_absolute_percentage_error(y_true, y_pred)\n",
        "\n",
        "        return {\n",
        "            'MSE': mse,\n",
        "            'RMSE': rmse,\n",
        "            'MAE': mae,\n",
        "            'MAPE': mape,\n",
        "            'R2': r2\n",
        "        }\n",
        "\n",
        "    def evaluate(self, X_train, X_test, y_train, y_test):\n",
        "        \"\"\"Evaluate model performance\"\"\"\n",
        "        y_train_pred = self.predict(X_train)\n",
        "        y_test_pred = self.predict(X_test)\n",
        "\n",
        "        train_metrics = self.calculate_metrics(y_train, y_train_pred)\n",
        "        test_metrics = self.calculate_metrics(y_test, y_test_pred)\n",
        "\n",
        "        self.metrics = {\n",
        "            'train': train_metrics,\n",
        "            'test': test_metrics\n",
        "        }\n",
        "\n",
        "        return self.metrics\n",
        "\n",
        "    def plot_training_history(self):\n",
        "        \"\"\"Plot training history\"\"\"\n",
        "        plt.figure(figsize=(10, 6))\n",
        "        plt.plot(self.history['train_loss'], label='Training Loss')\n",
        "        if 'val_loss' in self.history and self.history['val_loss']:\n",
        "            plt.plot(self.history['val_loss'], label='Validation Loss')\n",
        "        plt.title('Training History')\n",
        "        plt.xlabel('Epoch')\n",
        "        plt.ylabel('Loss')\n",
        "        plt.legend()\n",
        "        plt.grid(True)\n",
        "        plt.show()"
      ]
    },
    {
      "cell_type": "code",
      "execution_count": null,
      "metadata": {
        "id": "KHH0nC05VTlH",
        "colab": {
          "base_uri": "https://localhost:8080/",
          "height": 17
        },
        "outputId": "e3a45887-8f5e-4766-fa89-88c8371426d3"
      },
      "outputs": [
        {
          "output_type": "display_data",
          "data": {
            "text/plain": [
              "<IPython.core.display.Javascript object>"
            ],
            "application/javascript": [
              "google.colab.output.setIframeHeight(0, true, {maxHeight: 5000})"
            ]
          },
          "metadata": {}
        },
        {
          "output_type": "display_data",
          "data": {
            "text/plain": [
              "<IPython.core.display.Javascript object>"
            ],
            "application/javascript": [
              "google.colab.output.setIframeHeight(0, true, {maxHeight: 5000})"
            ]
          },
          "metadata": {}
        },
        {
          "output_type": "display_data",
          "data": {
            "text/plain": [
              "<IPython.core.display.Javascript object>"
            ],
            "application/javascript": [
              "google.colab.output.setIframeHeight(0, true, {maxHeight: 5000})"
            ]
          },
          "metadata": {}
        },
        {
          "output_type": "display_data",
          "data": {
            "text/plain": [
              "<IPython.core.display.Javascript object>"
            ],
            "application/javascript": [
              "google.colab.output.setIframeHeight(0, true, {maxHeight: 5000})"
            ]
          },
          "metadata": {}
        }
      ],
      "source": [
        "X_train = co2_data.x_train\n",
        "y_train = co2_data.y_train\n",
        "X_test = co2_data.x_test\n",
        "y_test = co2_data.y_test\n",
        "\n",
        "import sklearn.preprocessing as pp\n",
        "scaler = pp.StandardScaler().fit(X_train)\n",
        "X_train, X_test = scaler.transform(X_train), scaler.transform(X_test)"
      ]
    },
    {
      "cell_type": "code",
      "execution_count": null,
      "metadata": {
        "id": "X3IlncOvVTiw",
        "colab": {
          "base_uri": "https://localhost:8080/",
          "height": 599
        },
        "outputId": "e255f49e-209b-4d6f-a66f-32175cf97b91"
      },
      "outputs": [
        {
          "output_type": "display_data",
          "data": {
            "text/plain": [
              "<IPython.core.display.Javascript object>"
            ],
            "application/javascript": [
              "google.colab.output.setIframeHeight(0, true, {maxHeight: 5000})"
            ]
          },
          "metadata": {}
        },
        {
          "output_type": "display_data",
          "data": {
            "text/plain": [
              "<IPython.core.display.Javascript object>"
            ],
            "application/javascript": [
              "google.colab.output.setIframeHeight(0, true, {maxHeight: 5000})"
            ]
          },
          "metadata": {}
        },
        {
          "output_type": "display_data",
          "data": {
            "text/plain": [
              "<IPython.core.display.Javascript object>"
            ],
            "application/javascript": [
              "google.colab.output.setIframeHeight(0, true, {maxHeight: 5000})"
            ]
          },
          "metadata": {}
        },
        {
          "output_type": "display_data",
          "data": {
            "text/plain": [
              "<IPython.core.display.Javascript object>"
            ],
            "application/javascript": [
              "google.colab.output.setIframeHeight(0, true, {maxHeight: 5000})"
            ]
          },
          "metadata": {}
        },
        {
          "output_type": "stream",
          "name": "stdout",
          "text": [
            "Epoch [10/10], Train Loss: 0.3996, Val Loss: 0.0294\n",
            "Test Metrics: {'MSE': 0.029378629484857158, 'RMSE': 0.1714019529785386, 'MAE': 0.11774198403472605, 'MAPE': 0.05941722389892131, 'R2': 0.9945963675345222}\n"
          ]
        },
        {
          "output_type": "display_data",
          "data": {
            "text/plain": [
              "<Figure size 1000x600 with 1 Axes>"
            ],
            "image/png": "[encoded data removed]"
          },
          "metadata": {}
        }
      ],
      "source": [
        "# Initialize trainer\n",
        "trainer = LSTMTrainer(\n",
        "    input_dim=X_train.shape[1],\n",
        "    hidden_dim=64,\n",
        "    num_layers=2,\n",
        "    dropout=0.2,\n",
        "    learning_rate=0.001,\n",
        "    batch_size=32,\n",
        "    epochs=10\n",
        ")\n",
        "\n",
        "# Train model\n",
        "trainer.fit(X_train, y_train, X_test, y_test)\n",
        "\n",
        "# Evaluate model\n",
        "metrics = trainer.evaluate(X_train, X_test, y_train, y_test)\n",
        "print(\"Test Metrics:\", metrics['test'])\n",
        "\n",
        "# Plot training history\n",
        "trainer.plot_training_history()\n"
      ]
    }
  ],
  "metadata": {
    "colab": {
      "provenance": []
    },
    "kernelspec": {
      "display_name": "Python 3",
      "name": "python3"
    },
    "language_info": {
      "name": "python"
    }
  },
  "nbformat": 4,
  "nbformat_minor": 0
}